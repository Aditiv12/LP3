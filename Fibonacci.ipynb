{
 "cells": [
  {
   "cell_type": "code",
   "execution_count": 5,
   "id": "bc9ebfb6-1a65-486e-b202-0adbe5025bc9",
   "metadata": {},
   "outputs": [],
   "source": [
    "def fibo_nonrec(n):\n",
    "    if n<0:\n",
    "        return -1, 1\n",
    "    if n==0 or n==1:\n",
    "        return n, 1\n",
    "    steps = 0\n",
    "    a=0\n",
    "    b=1\n",
    "    for i in range(2, n+1):\n",
    "        c=a+b\n",
    "        a=b\n",
    "        b=c\n",
    "        steps=steps+1\n",
    "    return c, steps+1"
   ]
  },
  {
   "cell_type": "code",
   "execution_count": 8,
   "id": "23cdc30c-19b0-4848-ac26-c12b314e84b5",
   "metadata": {},
   "outputs": [],
   "source": [
    "def fibo_rec(n):\n",
    "    if n<0:\n",
    "        return -1,1\n",
    "    if n==0 or n==1:\n",
    "        return n,1\n",
    "    fib1, steps1 = fibo_rec(n-1)\n",
    "    fib2, steps2 = fibo_rec(n-2)\n",
    "    return fib1+fib2, steps1+steps2+1"
   ]
  },
  {
   "cell_type": "code",
   "execution_count": 10,
   "id": "4e4971e7-52e2-48f0-952a-5b39f38e3107",
   "metadata": {},
   "outputs": [
    {
     "name": "stdin",
     "output_type": "stream",
     "text": [
      "Enter number 5\n"
     ]
    },
    {
     "name": "stdout",
     "output_type": "stream",
     "text": [
      "Non recursive:  5\n",
      "steps: 5\n",
      "Recursive:  5\n",
      "steps: 15\n"
     ]
    }
   ],
   "source": [
    "if __name__ == '__main__':\n",
    "    n=int(input(\"Enter number\"))\n",
    "    print(\"Non recursive: \", fibo_nonrec(n)[0])\n",
    "    print(\"steps:\", fibo_nonrec(n)[1]) \n",
    "    print(\"Recursive: \", fibo_rec(n)[0])\n",
    "    print(\"steps:\", fibo_rec(n)[1])   "
   ]
  },
  {
   "cell_type": "code",
   "execution_count": null,
   "id": "94c358c3-2f3b-4a2a-afe1-dbab5343ac5b",
   "metadata": {},
   "outputs": [],
   "source": []
  }
 ],
 "metadata": {
  "kernelspec": {
   "display_name": "Python 3 (ipykernel)",
   "language": "python",
   "name": "python3"
  },
  "language_info": {
   "codemirror_mode": {
    "name": "ipython",
    "version": 3
   },
   "file_extension": ".py",
   "mimetype": "text/x-python",
   "name": "python",
   "nbconvert_exporter": "python",
   "pygments_lexer": "ipython3",
   "version": "3.11.4"
  }
 },
 "nbformat": 4,
 "nbformat_minor": 5
}
