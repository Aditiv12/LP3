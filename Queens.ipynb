{
 "cells": [
  {
   "cell_type": "code",
   "execution_count": 6,
   "id": "4b37900c-201d-4e10-9d0b-853b18886f88",
   "metadata": {},
   "outputs": [],
   "source": [
    "def NQueens (n:int, first_col:int):\n",
    "    col=set()\n",
    "    posDiag = set()\n",
    "    negDiag = set()\n",
    "    res=[]\n",
    "    board=[[\".\"]*n for _ in range(n)]\n",
    "    def backtrack(r):\n",
    "        if r==n:\n",
    "            res.append([\"\".join(row) for row in board])\n",
    "            return\n",
    "        for c in range(n):\n",
    "            if c in col or (r+c) in posDiag or (r-c) in negDiag:\n",
    "                continue\n",
    "            col.add(c)\n",
    "            posDiag.add(r+c)\n",
    "            negDiag.add(r-c)\n",
    "            board[r][c]=\"Q\"\n",
    "            backtrack(r+1)\n",
    "            col.remove(c)\n",
    "            posDiag.remove(r+c)\n",
    "            negDiag.remove(r-c)\n",
    "            board[r][c]=\".\"\n",
    "    col.add(first_col)\n",
    "    posDiag.add(0+first_col)\n",
    "    negDiag.add(0-first_col)\n",
    "    board[0][first_col]=\"Q\"\n",
    "    backtrack(1)\n",
    "    return res"
   ]
  },
  {
   "cell_type": "code",
   "execution_count": 7,
   "id": "a31e2f90-710d-4913-8f8f-aa4d860e2ccd",
   "metadata": {},
   "outputs": [
    {
     "name": "stdout",
     "output_type": "stream",
     "text": [
      ".Q......\n",
      "...Q....\n",
      ".....Q..\n",
      ".......Q\n",
      "..Q.....\n",
      "Q.......\n",
      "......Q.\n",
      "....Q...\n"
     ]
    }
   ],
   "source": [
    "if __name__ ==\"__main__\":\n",
    "    n=8\n",
    "    first_col=1\n",
    "    board=NQueens(n, first_col)[0]\n",
    "    for row in board:\n",
    "        print(\"\".join(row))"
   ]
  },
  {
   "cell_type": "code",
   "execution_count": null,
   "id": "bce33af7-20c0-48c7-84a4-ef44c37eef95",
   "metadata": {},
   "outputs": [],
   "source": []
  }
 ],
 "metadata": {
  "kernelspec": {
   "display_name": "Python 3 (ipykernel)",
   "language": "python",
   "name": "python3"
  },
  "language_info": {
   "codemirror_mode": {
    "name": "ipython",
    "version": 3
   },
   "file_extension": ".py",
   "mimetype": "text/x-python",
   "name": "python",
   "nbconvert_exporter": "python",
   "pygments_lexer": "ipython3",
   "version": "3.11.4"
  }
 },
 "nbformat": 4,
 "nbformat_minor": 5
}
