{
 "cells": [
  {
   "cell_type": "code",
   "execution_count": 5,
   "id": "a80b32db-2961-4720-8898-2be7c5557138",
   "metadata": {},
   "outputs": [],
   "source": [
    "class Item:\n",
    "\tdef __init__(self, profit, weight):\n",
    "\t\tself.profit = profit\n",
    "\t\tself.weight = weight\n",
    "\n",
    "# Main greedy function to solve problem\n",
    "def fractionalKnapsack(W, arr):\n",
    "\tarr.sort(key=lambda x: (x.profit/x.weight), reverse=True) \n",
    "\tfinalvalue = 0.0\n",
    "\tfor item in arr:\n",
    "\t\tif item.weight <= W:\n",
    "\t\t\tW -= item.weight\n",
    "\t\t\tfinalvalue += item.profit\n",
    "\t\telse:\n",
    "\t\t\tfinalvalue += item.profit * W / item.weight\n",
    "\t\t\tbreak\n",
    "\treturn finalvalue"
   ]
  },
  {
   "cell_type": "code",
   "execution_count": 6,
   "id": "6dd55c8d-5a74-4034-89d4-f31ff5ddc605",
   "metadata": {},
   "outputs": [
    {
     "name": "stdout",
     "output_type": "stream",
     "text": [
      "240.0\n"
     ]
    }
   ],
   "source": [
    "if __name__ == \"__main__\":\n",
    "\tW = 50\n",
    "\tarr = [Item(60, 10), Item(100, 20), Item(120, 30)]\n",
    "\n",
    "\t# Function call\n",
    "\tmax_val = fractionalKnapsack(W, arr)\n",
    "\tprint(max_val)"
   ]
  },
  {
   "cell_type": "code",
   "execution_count": null,
   "id": "8989de0b-03db-492d-8b23-fc15920cbf58",
   "metadata": {},
   "outputs": [],
   "source": []
  }
 ],
 "metadata": {
  "kernelspec": {
   "display_name": "Python 3 (ipykernel)",
   "language": "python",
   "name": "python3"
  },
  "language_info": {
   "codemirror_mode": {
    "name": "ipython",
    "version": 3
   },
   "file_extension": ".py",
   "mimetype": "text/x-python",
   "name": "python",
   "nbconvert_exporter": "python",
   "pygments_lexer": "ipython3",
   "version": "3.11.4"
  }
 },
 "nbformat": 4,
 "nbformat_minor": 5
}
