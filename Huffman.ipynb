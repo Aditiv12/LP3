{
 "cells": [
  {
   "cell_type": "code",
   "execution_count": 1,
   "id": "11ce756a-8c91-4973-b36e-bf9223420428",
   "metadata": {},
   "outputs": [],
   "source": [
    "import heapq"
   ]
  },
  {
   "cell_type": "code",
   "execution_count": 2,
   "id": "99672953-3930-49cf-9113-f4cc0dcc0b58",
   "metadata": {},
   "outputs": [],
   "source": [
    "class node:\n",
    "    def __init__ (self, freq, symbol, left=None, right=None):\n",
    "        self.freq = freq\n",
    "        self.symbol = symbol\n",
    "        self.left= left\n",
    "        self.right = right\n",
    "        self.huff =\"\"\n",
    "    def __lt__(self, other):\n",
    "        return self.freq<other.freq\n",
    "    "
   ]
  },
  {
   "cell_type": "code",
   "execution_count": 9,
   "id": "b2d0586e-02ff-4875-8325-d575f05e7307",
   "metadata": {},
   "outputs": [],
   "source": [
    "def printNodes(node, val=\"\"):\n",
    "    newval = val+node.huff\n",
    "    if node.left:\n",
    "        printNodes(node.left, newval)\n",
    "    if node.right:\n",
    "        printNodes(node.right, newval)\n",
    "    else:\n",
    "        print(f\"{node.symbol}->{newval}\")"
   ]
  },
  {
   "cell_type": "code",
   "execution_count": 10,
   "id": "36d7396c-e250-46d6-a9de-ad86c4322483",
   "metadata": {},
   "outputs": [],
   "source": [
    "chars = [\"a\", \"b\", \"c\", \"d\", \"e\", \"f\"]\n",
    "freqs = [5, 9,12,13,16,45]\n",
    "nodes=[]"
   ]
  },
  {
   "cell_type": "code",
   "execution_count": 11,
   "id": "916e9db2-4651-4b5f-ae50-2755a07e3e22",
   "metadata": {},
   "outputs": [],
   "source": [
    "for i in range(len(chars)):\n",
    "    heapq.heappush(nodes, node(freqs[i], chars[i]))"
   ]
  },
  {
   "cell_type": "code",
   "execution_count": 12,
   "id": "45c9fb2f-3523-4273-a68f-767778a2c68d",
   "metadata": {},
   "outputs": [],
   "source": [
    "while len(nodes)>1:\n",
    "    left= heapq.heappop(nodes)\n",
    "    right= heapq.heappop(nodes)\n",
    "    left.huff=\"0\"\n",
    "    right.huff=\"1\"\n",
    "    newnode = node(left.freq+right.freq, left.symbol +right.symbol, left, right)\n",
    "    heapq.heappush(nodes, newnode)"
   ]
  },
  {
   "cell_type": "code",
   "execution_count": 13,
   "id": "8f4bd46c-03e6-4dbf-967b-5ea027c0eacd",
   "metadata": {},
   "outputs": [
    {
     "name": "stdout",
     "output_type": "stream",
     "text": [
      "f->0\n",
      "c->100\n",
      "d->101\n",
      "a->1100\n",
      "b->1101\n",
      "e->111\n"
     ]
    }
   ],
   "source": [
    "printNodes(nodes[0])"
   ]
  },
  {
   "cell_type": "code",
   "execution_count": null,
   "id": "ae4e5619-246f-4634-8e61-988103a09773",
   "metadata": {},
   "outputs": [],
   "source": []
  }
 ],
 "metadata": {
  "kernelspec": {
   "display_name": "Python 3 (ipykernel)",
   "language": "python",
   "name": "python3"
  },
  "language_info": {
   "codemirror_mode": {
    "name": "ipython",
    "version": 3
   },
   "file_extension": ".py",
   "mimetype": "text/x-python",
   "name": "python",
   "nbconvert_exporter": "python",
   "pygments_lexer": "ipython3",
   "version": "3.11.4"
  }
 },
 "nbformat": 4,
 "nbformat_minor": 5
}
